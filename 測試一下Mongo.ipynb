{
 "cells": [
  {
   "cell_type": "markdown",
   "metadata": {},
   "source": [
    "### 傳說中的標題"
   ]
  },
  {
   "cell_type": "code",
   "execution_count": 2,
   "metadata": {
    "collapsed": true
   },
   "outputs": [],
   "source": [
    "from pymongo import MongoClient\n",
    "from pprint import pprint as pp\n",
    "mm = MongoClient(\"mongodb://127.0.0.1/test\")\n",
    "mm.db = mm.test\n",
    "db = mm.db"
   ]
  },
  {
   "cell_type": "code",
   "execution_count": 3,
   "metadata": {},
   "outputs": [
    {
     "name": "stdout",
     "output_type": "stream",
     "text": [
      "[{'_id': 123,\n",
      "  'items': [{'development': {'department': 'swrd',\n",
      "                             'people': ['Howard', 'Tony', 'Andy']},\n",
      "             'name': 'A',\n",
      "             'price': 20},\n",
      "            {'development': {'department': 'swrd',\n",
      "                             'people': ['Elizabeth', 'Joshau']},\n",
      "             'name': 'B',\n",
      "             'price': 50},\n",
      "            {'development': {'department': 'mrd', 'people': ['John', 'Janice']},\n",
      "             'name': 'C',\n",
      "             'price': 30}],\n",
      "  'total': 100}]\n"
     ]
    }
   ],
   "source": [
    "db.hi.delete_one({'_id': 123})\n",
    "\n",
    "db.hi.insert_one({\n",
    "    '_id' : 123,\n",
    "    \n",
    "    'total' : 100,\n",
    "    'items' : [\n",
    "        { 'name' : \"A\", 'price' : 20, 'development' : {'department' : 'swrd', 'people' : ['Howard','Tony','Andy']}},\n",
    "        { 'name' : \"B\", 'price' : 50, 'development' : {'department' : 'swrd', 'people' : ['Elizabeth','Joshau']}},\n",
    "        { 'name' : \"C\", 'price' : 30, 'development' : {'department' : 'mrd', 'people' : ['John','Janice']}}\n",
    "    ]\n",
    "})\n",
    "\n",
    "pp(list(db.hi.find()))"
   ]
  },
  {
   "cell_type": "code",
   "execution_count": 35,
   "metadata": {},
   "outputs": [
    {
     "name": "stdout",
     "output_type": "stream",
     "text": [
      "[{'_id': 'C', 'number': 1},\n",
      " {'_id': 'B', 'number': 1},\n",
      " {'_id': 'A', 'number': 2}]\n",
      "[{'_id': 'C', 'number': 300},\n",
      " {'_id': 'B', 'number': 200},\n",
      " {'_id': 'A', 'number': 200}]\n"
     ]
    }
   ],
   "source": [
    "db.production.delete_many({})\n",
    "\n",
    "db.production.insert_one({'type' : 'A', 'price' : 100})\n",
    "db.production.insert_one({'type' : 'B', 'price' : 200})\n",
    "db.production.insert_one({'type' : 'C', 'price' : 300})\n",
    "db.production.insert_one({'type' : 'A', 'price' : 100})\n",
    "\n",
    "\n",
    "pp(list(db.production.aggregate([\n",
    "    {\"$group\" : {\"_id\" : \"$type\", \"number\" : {\"$sum\" : 1}}}\n",
    "])))\n",
    "\n",
    "pp(list(db.production.aggregate([\n",
    "    {\"$group\" : {\"_id\" : \"$type\", \"number\" : {\"$sum\" : \"$price\"}}}\n",
    "])))"
   ]
  },
  {
   "cell_type": "code",
   "execution_count": null,
   "metadata": {
    "collapsed": true
   },
   "outputs": [],
   "source": []
  }
 ],
 "metadata": {
  "kernelspec": {
   "display_name": "Python 3",
   "language": "python",
   "name": "python3"
  },
  "language_info": {
   "codemirror_mode": {
    "name": "ipython",
    "version": 3
   },
   "file_extension": ".py",
   "mimetype": "text/x-python",
   "name": "python",
   "nbconvert_exporter": "python",
   "pygments_lexer": "ipython3",
   "version": "3.6.1"
  }
 },
 "nbformat": 4,
 "nbformat_minor": 2
}
