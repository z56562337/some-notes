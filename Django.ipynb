{
 "cells": [
  {
   "cell_type": "markdown",
   "metadata": {},
   "source": [
    "# WSGI 概念"
   ]
  },
  {
   "cell_type": "markdown",
   "metadata": {},
   "source": [
    "* Django 是一個 web framework,一種網路服務框架\n",
    "* 絕大多數用 Python 寫成的網路服務，在本質上都是一個 WSGI 應用程式。WSGI，亦即「web server gateway interface」，是一個由 Python 官方制定，用來統一伺服器程式與 Python 程式之間溝通方式的標準。\n",
    "\n",
    "每個 WSGI 應用程式，都需要搭配一個 WSGI 伺服器來執行。當一個 WSGI 伺服器被啟動時，會進行以下的動作：\n",
    "\n",
    "1. 初始化。\n",
    "\n",
    "2. 設定環境變數等執行參數。\n",
    "\n",
    "3. 找到與它對應的 WSGI 應用程式。\n",
    "\n",
    "4. 進入一個迴圈，不斷等待來自網路的請求（requests）。\n",
    "\n",
    "5. 當得到請求時，呼叫 WSGI 應用程式，並告知該請求內部的參數與資料。\n",
    "\n",
    "6. 回到迴圈。\n",
    "\n",
    "7. 重複 2—5，直到使用者或系統要求它停止。"
   ]
  },
  {
   "cell_type": "markdown",
   "metadata": {},
   "source": [
    "# 建立python虛擬環境(windows)"
   ]
  },
  {
   "cell_type": "markdown",
   "metadata": {},
   "source": [
    "```cmd\n",
    "pip install virtualenv\n",
    "pip install virtualenvwrapper-win\n",
    "\n",
    "mkvirtualenv django_test #建立虛擬環境\n",
    "mkdir django_test\n",
    "cd django_test\n",
    "\n",
    "setprojectdir . #配置工作目錄，以後只要進虛擬環境，會自動進到這個目錄\n",
    "deactivate #跳出環境\n",
    "workon django_test #進入環境\n",
    "```"
   ]
  },
  {
   "cell_type": "markdown",
   "metadata": {},
   "source": [
    "# 安裝Django"
   ]
  },
  {
   "cell_type": "markdown",
   "metadata": {},
   "source": [
    "```cmd\n",
    "##現在位置 (django_test) D:\\django_test>\n",
    "\n",
    "pip install django\n",
    "```"
   ]
  },
  {
   "cell_type": "markdown",
   "metadata": {},
   "source": [
    "# Django 專案"
   ]
  },
  {
   "cell_type": "markdown",
   "metadata": {},
   "source": [
    "### 建立專案\n",
    "\n",
    "```cmd\n",
    "django-admin startproject django_test\n",
    "```\n",
    "\n",
    "### 資料夾結構\n",
    "\n",
    "```\n",
    "django_test\n",
    "├── django_test\n",
    "│   ├── django_test\n",
    "│   │   ├── __init__.py\n",
    "│   │   ├── settings.py\n",
    "│   │   ├── urls.py\n",
    "│   │   └── wsgi.py\n",
    "│   └── manage.py\n",
    "└── venv\n",
    "    └── django_test\n",
    "        └── [裡面是虛擬環境，略]  \n",
    "```     \n",
    "第二個 django_test 是由 django-admin 指令建立的，你的專案目錄。所有專案相關的東西都應該要在這個目錄裡面；如果你未來想要把這個專案放進版本控制系統，這應該就是專案的根目錄。注意不是最外面那個！一般不建議把虛擬環境放進版本控制。\n",
    "\n",
    "* setting.py : 用來存放這個專案的設定 ([官方文件](https://docs.djangoproject.com/en/1.7/ref/settings/))\n",
    "* urls.py ： 用來告訴 Django，當它收到某個（或某些）路徑的要求時，應該要呼叫哪個函式來處理。\n",
    "* wsgi.py ： 當 WSGI 伺服器收到請求時，就會執行這個檔案，以獲得一個 WSGI 應用程式。(讓 Django 專案變成 WSGI 應用程式)"
   ]
  }
 ],
 "metadata": {
  "kernelspec": {
   "display_name": "Python 3",
   "language": "python",
   "name": "python3"
  },
  "language_info": {
   "codemirror_mode": {
    "name": "ipython",
    "version": 3
   },
   "file_extension": ".py",
   "mimetype": "text/x-python",
   "name": "python",
   "nbconvert_exporter": "python",
   "pygments_lexer": "ipython3",
   "version": "3.6.1"
  }
 },
 "nbformat": 4,
 "nbformat_minor": 2
}
