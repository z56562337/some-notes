{
 "cells": [
  {
   "cell_type": "markdown",
   "metadata": {},
   "source": [
    "# 建立python虛擬環境(windows)"
   ]
  },
  {
   "cell_type": "markdown",
   "metadata": {},
   "source": [
    "```cmd\n",
    "pip install virtualenv\n",
    "pip install virtualenvwrapper-win\n",
    "\n",
    "mkvirtualenv venv_name #建立虛擬環境\n",
    "mkdir package_name\n",
    "cd package_name\n",
    "\n",
    "setprojectdir . #配置工作目錄，以後只要進虛擬環境，會自動進到這個目錄\n",
    "deactivate #跳出環境\n",
    "workon package_name #進入環境\n",
    "```"
   ]
  }
 ],
 "metadata": {
  "kernelspec": {
   "display_name": "Python 3",
   "language": "python",
   "name": "python3"
  },
  "language_info": {
   "codemirror_mode": {
    "name": "ipython",
    "version": 3
   },
   "file_extension": ".py",
   "mimetype": "text/x-python",
   "name": "python",
   "nbconvert_exporter": "python",
   "pygments_lexer": "ipython3",
   "version": "3.6.1"
  }
 },
 "nbformat": 4,
 "nbformat_minor": 2
}
